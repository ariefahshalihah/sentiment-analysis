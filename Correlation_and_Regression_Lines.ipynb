{
  "nbformat": 4,
  "nbformat_minor": 0,
  "metadata": {
    "colab": {
      "name": "Correlation and Regression Lines.ipynb",
      "provenance": [],
      "authorship_tag": "ABX9TyOSJAifVialla2b0N0IvB04",
      "include_colab_link": true
    },
    "kernelspec": {
      "name": "python3",
      "display_name": "Python 3"
    }
  },
  "cells": [
    {
      "cell_type": "markdown",
      "metadata": {
        "id": "view-in-github",
        "colab_type": "text"
      },
      "source": [
        "<a href=\"https://colab.research.google.com/github/ariefahshalihah/projects/blob/master/Correlation_and_Regression_Lines.ipynb\" target=\"_parent\"><img src=\"https://colab.research.google.com/assets/colab-badge.svg\" alt=\"Open In Colab\"/></a>"
      ]
    },
    {
      "cell_type": "code",
      "metadata": {
        "colab": {
          "base_uri": "https://localhost:8080/"
        },
        "id": "NtwKw7Om6Ka8",
        "outputId": "28113f07-b19f-41e7-f1f5-d4d1102512e2"
      },
      "source": [
        "# Compute Karl Pearson’s coefficient of correlation between these scores.\r\n",
        "\r\n",
        "import math as m\r\n",
        "\r\n",
        "def average(D):\r\n",
        "    return sum(D) / len(D)\r\n",
        "\r\n",
        "def var(D):\r\n",
        "    sum = 0\r\n",
        "    for i in range(len(D)):\r\n",
        "        sum = sum + (D[i] - average(D)) ** 2\r\n",
        "\r\n",
        "    return sum\r\n",
        "\r\n",
        "def cov(X, Y):\r\n",
        "    sum = 0\r\n",
        "    for i in range(len(X)):\r\n",
        "        sum += (X[i] - average(X)) * (Y[i] - average(Y))\r\n",
        "\r\n",
        "    return sum\r\n",
        "\r\n",
        "# Set data\r\n",
        "physics = [15.0, 12.0, 8.0, 8.0, 7.0, 7.0, 7.0, 6.0, 5.0, 3.0]\r\n",
        "history = [10.0, 25.0, 17.0, 11.0, 13.0, 17.0, 20.0, 13.0, 9.0, 15.0]\r\n",
        "\r\n",
        "cov = cov(physics, history)\r\n",
        "std = m.sqrt(var(physics) * var(history))\r\n",
        "r = cov / std\r\n",
        "\r\n",
        "print(round(r, 3))"
      ],
      "execution_count": 1,
      "outputs": [
        {
          "output_type": "stream",
          "text": [
            "0.145\n"
          ],
          "name": "stdout"
        }
      ]
    }
  ]
}